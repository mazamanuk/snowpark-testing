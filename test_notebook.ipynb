{
 "cells": [
  {
   "cell_type": "code",
   "execution_count": null,
   "id": "52f9d0ff-7db6-42b7-8303-34b4d7cc159d",
   "metadata": {},
   "outputs": [],
   "source": [
    "from typing import Dict, Union\n",
    "from snowflake.snowpark import Session\n",
    "\n",
    "connection_parameters: Dict[str, Union[int, str]] = {\n",
    "    \"account\": \"<account-identifier>\",\n",
    "    \"user\": \"<username>\",\n",
    "    \"password\": \"<password>\",\n",
    "    \"role\": \"ACCOUNTADMIN\"\n",
    "}"
   ]
  },
  {
   "cell_type": "code",
   "execution_count": null,
   "id": "d2be107d",
   "metadata": {},
   "outputs": [],
   "source": [
    "session = Session.builder.configs(connection_parameters).create()"
   ]
  },
  {
   "cell_type": "code",
   "execution_count": null,
   "id": "902a3752",
   "metadata": {},
   "outputs": [],
   "source": [
    "df = session.sql('SELECT * FROM snowflake_sample_data.tpch_sf10.orders')\n",
    "\n",
    "df.show()"
   ]
  },
  {
   "cell_type": "code",
   "execution_count": null,
   "id": "20d5f2d0",
   "metadata": {},
   "outputs": [],
   "source": [
    "print(session.get_current_account())\n",
    "print(session.get_current_database())\n",
    "print(session.get_current_role())\n",
    "print(session.get_current_schema())"
   ]
  },
  {
   "cell_type": "code",
   "execution_count": null,
   "id": "7edc9e33",
   "metadata": {},
   "outputs": [],
   "source": [
    "session.close()"
   ]
  },
  {
   "cell_type": "code",
   "execution_count": null,
   "id": "286d8300",
   "metadata": {},
   "outputs": [],
   "source": []
  }
 ],
 "metadata": {
  "kernelspec": {
   "display_name": "snowpark_env",
   "language": "python",
   "name": "python3"
  },
  "language_info": {
   "codemirror_mode": {
    "name": "ipython",
    "version": 3
   },
   "file_extension": ".py",
   "mimetype": "text/x-python",
   "name": "python",
   "nbconvert_exporter": "python",
   "pygments_lexer": "ipython3",
   "version": "3.10.13"
  }
 },
 "nbformat": 4,
 "nbformat_minor": 5
}
