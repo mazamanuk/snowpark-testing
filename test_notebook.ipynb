{
 "cells": [
  {
   "cell_type": "markdown",
   "id": "4d5dada5",
   "metadata": {},
   "source": [
    "## Connecting to Snowflake Snowpark and setting up the initial session"
   ]
  },
  {
   "cell_type": "code",
   "execution_count": null,
   "id": "52f9d0ff-7db6-42b7-8303-34b4d7cc159d",
   "metadata": {},
   "outputs": [],
   "source": [
    "from typing import Dict, Union\n",
    "from snowflake.snowpark import Session\n",
    "\n",
    "connection_parameters: Dict[str, Union[int, str]] = {\n",
    "    \"account\": \"<account-identifier>\",\n",
    "    \"user\": \"<username>\",\n",
    "    \"password\": \"<password>\",\n",
    "    \"role\": \"ACCOUNTADMIN\",\n",
    "    \"database\": \"snowpark_test_db\",\n",
    "    \"schema\": \"snowpark_test_schema\"\n",
    "}"
   ]
  },
  {
   "cell_type": "code",
   "execution_count": null,
   "id": "d2be107d",
   "metadata": {},
   "outputs": [],
   "source": [
    "session = Session.builder.configs(connection_parameters).create()"
   ]
  },
  {
   "cell_type": "markdown",
   "id": "d4a4a6a6",
   "metadata": {},
   "source": [
    "## Testing a simple SELECT statement "
   ]
  },
  {
   "cell_type": "code",
   "execution_count": null,
   "id": "902a3752",
   "metadata": {},
   "outputs": [],
   "source": [
    "df = session.sql('SELECT * FROM snowflake_sample_data.tpch_sf10.orders')\n",
    "\n",
    "df.show()"
   ]
  },
  {
   "cell_type": "code",
   "execution_count": null,
   "id": "20d5f2d0",
   "metadata": {},
   "outputs": [],
   "source": [
    "print(session.get_current_account())\n",
    "print(session.get_current_database())\n",
    "print(session.get_current_role())\n",
    "print(session.get_current_schema())"
   ]
  },
  {
   "cell_type": "markdown",
   "id": "4abfdfc5",
   "metadata": {},
   "source": [
    "## Creating a dataframe and querying the resulting table"
   ]
  },
  {
   "cell_type": "code",
   "execution_count": null,
   "id": "7edc9e33",
   "metadata": {},
   "outputs": [],
   "source": [
    "session.sql('CREATE OR REPLACE TABLE sample_product_data (id INT, parent_id INT, category_id INT, name VARCHAR, serial_number VARCHAR, key INT, \"3rd\" INT)').collect()\n",
    "\n",
    "session.sql(\"\"\"\n",
    "             INSERT INTO sample_product_data VALUES\n",
    "            (1, 0, 5, 'Product 1', 'prod-1', 1, 10),\n",
    "            (2, 1, 5, 'Product 1A', 'prod-1-A', 1, 20),\n",
    "            (3, 1, 5, 'Product 1B', 'prod-1-B', 1, 30),\n",
    "            (4, 0, 10, 'Product 2', 'prod-2', 2, 40),\n",
    "            (5, 4, 10, 'Product 2A', 'prod-2-A', 2, 50),\n",
    "            (6, 4, 10, 'Product 2B', 'prod-2-B', 2, 60),\n",
    "            (7, 0, 20, 'Product 3', 'prod-3', 3, 70),\n",
    "            (8, 7, 20, 'Product 3A', 'prod-3-A', 3, 80),\n",
    "            (9, 7, 20, 'Product 3B', 'prod-3-B', 3, 90),\n",
    "            (10, 0, 50, 'Product 4', 'prod-4', 4, 100),\n",
    "            (11, 10, 50, 'Product 4A', 'prod-4-A', 4, 100),\n",
    "            (12, 10, 50, 'Product 4B', 'prod-4-B', 4, 100)\n",
    "            \"\"\").collect()"
   ]
  },
  {
   "cell_type": "code",
   "execution_count": null,
   "id": "4d4e4b24",
   "metadata": {},
   "outputs": [],
   "source": [
    "session.sql(\"SELECT count(*) FROM sample_product_data\").collect()"
   ]
  },
  {
   "cell_type": "code",
   "execution_count": null,
   "id": "de284300",
   "metadata": {},
   "outputs": [],
   "source": [
    "df_table = session.table(\"sample_product_data\")"
   ]
  },
  {
   "cell_type": "code",
   "execution_count": null,
   "id": "0a709440",
   "metadata": {},
   "outputs": [],
   "source": [
    "df_table.show()"
   ]
  },
  {
   "cell_type": "code",
   "execution_count": null,
   "id": "60864268",
   "metadata": {},
   "outputs": [],
   "source": [
    "df1 = session.create_dataframe([1, 2, 3, 4]).to_df(\"a\")\n",
    "df1.show()"
   ]
  },
  {
   "cell_type": "code",
   "execution_count": null,
   "id": "6cca2fca",
   "metadata": {},
   "outputs": [],
   "source": [
    "df2 = session.create_dataframe([[1, 2, 3, 4]], schema=[\"a\", \"b\", \"c\", \"d\"])\n",
    "df2.show()"
   ]
  },
  {
   "cell_type": "markdown",
   "id": "39126523",
   "metadata": {},
   "source": [
    "## Creating simple UDFs"
   ]
  },
  {
   "cell_type": "code",
   "execution_count": null,
   "id": "eff22bd8",
   "metadata": {},
   "outputs": [],
   "source": [
    "import numpy as np\n",
    "import pandas as pd\n",
    "\n",
    "from snowflake.snowpark.functions import udf\n",
    "\n",
    "session.add_packages(\"numpy\", \"pandas\")\n",
    "\n",
    "# This cell was run both without the name=\"compute\" argument and with. Without this name, Snowpark will store multiple versions of the function with unique names. With the argument, this cell will fail to execute on account of the 'COMPUTE' object already existing.\n",
    "@udf(name=\"compute\")\n",
    "def compute() -> list:\n",
    "    return [np.__version__, pd.__version__]"
   ]
  },
  {
   "cell_type": "code",
   "execution_count": null,
   "id": "abd7a94d",
   "metadata": {},
   "outputs": [],
   "source": [
    "result = session.sql(\"SELECT FUNCTION_NAME FROM SNOWPARK_TEST_DB.INFORMATION_SCHEMA.FUNCTIONS WHERE FUNCTION_SCHEMA = 'SNOWPARK_TEST_SCHEMA'\").collect()\n",
    "\n",
    "for row in result:\n",
    "    print(row[0])"
   ]
  },
  {
   "cell_type": "code",
   "execution_count": null,
   "id": "99514e88",
   "metadata": {},
   "outputs": [],
   "source": [
    "result = session.sql(\"SELECT SNOWPARK_TEST_SCHEMA.SNOWPARK_TEMP_FUNCTION_I8NPUJLPJ3()\").collect()\n",
    "\n",
    "raw_output = result[0][0]\n",
    "\n",
    "data_list = eval(raw_output) # type: ignore\n",
    "\n",
    "# print(result[0])\n",
    "numpy_version, pandas_version = data_list\n",
    "\n",
    "print(numpy_version, pandas_version)"
   ]
  },
  {
   "cell_type": "code",
   "execution_count": null,
   "id": "ca0df965",
   "metadata": {},
   "outputs": [],
   "source": [
    "result = session.sql(\"SELECT SNOWPARK_TEST_SCHEMA.compute()\").collect()\n",
    "\n",
    "raw_output = result[0][0]\n",
    "\n",
    "data_list = eval(raw_output) # type: ignore\n",
    "\n",
    "# print(result[0])\n",
    "numpy_version, pandas_version = data_list\n",
    "\n",
    "print(numpy_version, pandas_version)"
   ]
  },
  {
   "cell_type": "markdown",
   "id": "8e11b6d2",
   "metadata": {},
   "source": [
    "### Anonymous UDF"
   ]
  },
  {
   "cell_type": "code",
   "execution_count": null,
   "id": "91c51351",
   "metadata": {},
   "outputs": [],
   "source": [
    "from snowflake.snowpark.types import IntegerType\n",
    "from snowflake.snowpark.functions import udf\n",
    "\n",
    "add_one = udf(lambda x: x+1, return_type=IntegerType(), input_types=[IntegerType()])"
   ]
  },
  {
   "cell_type": "code",
   "execution_count": null,
   "id": "cdd9095a",
   "metadata": {},
   "outputs": [],
   "source": [
    "result = session.sql(\"SELECT SNOWPARK_TEST_SCHEMA.SNOWPARK_TEMP_FUNCTION_5OGDJ5Y3I3(1)\").collect()\n",
    "\n",
    "print(result[0][0])"
   ]
  },
  {
   "cell_type": "markdown",
   "id": "19d40dd6",
   "metadata": {},
   "source": [
    "## Dropping UDFs"
   ]
  },
  {
   "cell_type": "code",
   "execution_count": null,
   "id": "ec9fd577",
   "metadata": {},
   "outputs": [],
   "source": [
    "result = session.sql(\"SELECT FUNCTION_NAME FROM SNOWPARK_TEST_DB.INFORMATION_SCHEMA.FUNCTIONS WHERE FUNCTION_SCHEMA = 'SNOWPARK_TEST_SCHEMA'\").collect()\n",
    "\n",
    "for row in result:\n",
    "    print(row[0])"
   ]
  },
  {
   "cell_type": "code",
   "execution_count": null,
   "id": "5656ae21",
   "metadata": {},
   "outputs": [],
   "source": [
    "session.sql(\"DROP FUNCTION if exists SNOWPARK_TEST_SCHEMA.SNOWPARK_TEMP_FUNCTION_Y2XQ4S2YP6()\").collect()"
   ]
  },
  {
   "cell_type": "code",
   "execution_count": null,
   "id": "94623254",
   "metadata": {},
   "outputs": [],
   "source": [
    "result = session.sql(\"SELECT FUNCTION_NAME FROM SNOWPARK_TEST_DB.INFORMATION_SCHEMA.FUNCTIONS WHERE FUNCTION_SCHEMA = 'SNOWPARK_TEST_SCHEMA'\").collect()\n",
    "\n",
    "for row in result:\n",
    "    print(row[0])"
   ]
  },
  {
   "cell_type": "markdown",
   "id": "160c1706",
   "metadata": {},
   "source": [
    "## Closing the session"
   ]
  },
  {
   "cell_type": "code",
   "execution_count": null,
   "id": "286d8300",
   "metadata": {},
   "outputs": [],
   "source": [
    "session.close()"
   ]
  }
 ],
 "metadata": {
  "kernelspec": {
   "display_name": "Python 3 (ipykernel)",
   "language": "python",
   "name": "python3"
  },
  "language_info": {
   "codemirror_mode": {
    "name": "ipython",
    "version": 3
   },
   "file_extension": ".py",
   "mimetype": "text/x-python",
   "name": "python",
   "nbconvert_exporter": "python",
   "pygments_lexer": "ipython3",
   "version": "3.10.13"
  }
 },
 "nbformat": 4,
 "nbformat_minor": 5
}
